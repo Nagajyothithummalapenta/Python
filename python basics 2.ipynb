{
 "cells": [
  {
   "cell_type": "markdown",
   "metadata": {},
   "source": [
    "# 9/1/2020\n",
    "## Files and packages"
   ]
  },
  {
   "cell_type": "markdown",
   "metadata": {},
   "source": [
    "### Files\n",
    "- Write the file data\n",
    "- Append the file data\n",
    "- Read the file data\n",
    "- Word count\n",
    "- character count\n",
    "- some specific exampless on characters and words"
   ]
  },
  {
   "cell_type": "markdown",
   "metadata": {},
   "source": [
    "### File Modes\n",
    " - **w** (If the file is not exists then it will create file and will put some to the file),If the file is already exists  then it is rewrite the existing file data.\n",
    " - **a** (If the file is not exists then it will create file and data will be written),If the file is already exists then the data will be written from the last line.\n",
    " - **r** (Used to read the file data)"
   ]
  },
  {
   "cell_type": "code",
   "execution_count": 5,
   "metadata": {},
   "outputs": [
    {
     "name": "stdout",
     "output_type": "stream",
     "text": [
      "file is created and data has written to the file\n"
     ]
    }
   ],
   "source": [
    "def createFile(filename):\n",
    "    f=open(filename,'w')\n",
    "    for i in range(10):\n",
    "        f.write(\"This  Line\")\n",
    "        #print(\"This %d Line\",i)\n",
    "    print(\"file is created and data has written to the file\")\n",
    "    return\n",
    "createFile(\"file1.txt\")"
   ]
  },
  {
   "cell_type": "code",
   "execution_count": 6,
   "metadata": {},
   "outputs": [
    {
     "data": {
      "text/plain": [
       "'C:\\\\Users\\\\DELL'"
      ]
     },
     "execution_count": 6,
     "metadata": {},
     "output_type": "execute_result"
    }
   ],
   "source": [
    "pwd"
   ]
  },
  {
   "cell_type": "code",
   "execution_count": 7,
   "metadata": {},
   "outputs": [
    {
     "name": "stdout",
     "output_type": "stream",
     "text": [
      " Volume in drive C has no label.\n",
      " Volume Serial Number is 263F-8992\n",
      "\n",
      " Directory of C:\\Users\\DELL\n",
      "\n",
      "09-01-2020  14:46    <DIR>          .\n",
      "09-01-2020  14:46    <DIR>          ..\n",
      "13-02-2019  14:35    <DIR>          .3T\n",
      "03-01-2020  11:15    <DIR>          .anaconda\n",
      "12-02-2019  09:41    <DIR>          .cache\n",
      "09-01-2020  14:45    <DIR>          .conda\n",
      "09-01-2020  13:01                43 .condarc\n",
      "12-02-2019  10:47    <DIR>          .config\n",
      "12-02-2019  16:04               625 .dbshell\n",
      "09-01-2020  10:37    <DIR>          .ipynb_checkpoints\n",
      "04-01-2020  11:05    <DIR>          .ipython\n",
      "04-01-2020  11:28    <DIR>          .jupyter\n",
      "12-02-2019  11:04                 0 .mongorc.js\n",
      "12-02-2019  10:46                 7 .node_repl_history\n",
      "29-04-2019  20:01    <DIR>          .oracle_jre_usage\n",
      "12-02-2019  09:41    <DIR>          .swt\n",
      "12-02-2019  09:38    <DIR>          .vscode\n",
      "27-12-2019  14:34    <DIR>          3D Objects\n",
      "04-01-2020  10:57    <DIR>          Anaconda3\n",
      "27-12-2019  14:34    <DIR>          Contacts\n",
      "09-01-2020  12:34    <DIR>          Desktop\n",
      "06-01-2020  11:39    <DIR>          Documents\n",
      "06-01-2020  16:42    <DIR>          Downloads\n",
      "27-12-2019  14:34    <DIR>          Favorites\n",
      "09-01-2020  14:44               100 file1.txt\n",
      "27-12-2019  14:34    <DIR>          Links\n",
      "27-12-2019  14:34    <DIR>          Music\n",
      "09-01-2020  12:59    <DIR>          OneDrive\n",
      "04-01-2020  12:12    <DIR>          Pictures\n",
      "09-01-2020  14:46             2,236 python basics 2.ipynb\n",
      "08-01-2020  15:59            38,221 python basics.ipynb\n",
      "08-01-2020  16:36            26,272 python basics1.ipynb\n",
      "08-01-2020  16:00            22,243 python programs.ipynb\n",
      "04-01-2020  11:38             6,434 python-logo.jpg\n",
      "27-12-2019  14:34    <DIR>          Saved Games\n",
      "27-12-2019  14:34    <DIR>          Searches\n",
      "06-01-2020  14:25    <DIR>          Videos\n",
      "30-04-2019  07:26    <DIR>          wekafiles\n",
      "              10 File(s)         96,181 bytes\n",
      "              28 Dir(s)  281,139,658,752 bytes free\n"
     ]
    }
   ],
   "source": [
    "ls"
   ]
  },
  {
   "cell_type": "code",
   "execution_count": 8,
   "metadata": {},
   "outputs": [],
   "source": [
    "def testFileData(filename):\n",
    "    f=open(filename,'w')\n",
    "    f.write('New Line Data\\n')\n",
    "    return\n",
    "testFileData('file1.txt')"
   ]
  },
  {
   "cell_type": "code",
   "execution_count": 11,
   "metadata": {},
   "outputs": [
    {
     "name": "stdout",
     "output_type": "stream",
     "text": [
      "data is appended\n"
     ]
    }
   ],
   "source": [
    "def appendData(filename):\n",
    "    f=open(filename,'a')\n",
    "    f.write('Dhyanahita org\\n')\n",
    "    print('data is appended')\n",
    "    return\n",
    "appendData('file1.txt')"
   ]
  },
  {
   "cell_type": "code",
   "execution_count": 16,
   "metadata": {},
   "outputs": [
    {
     "name": "stdout",
     "output_type": "stream",
     "text": [
      "New Line Data\n",
      "Dhyanahita org\n",
      "Dhyanahita org\n",
      "Dhyanahita org\n",
      "\n"
     ]
    }
   ],
   "source": [
    "def readFileData(filename):\n",
    "    f=open(filename,'r')\n",
    "    if f.mode=='r':\n",
    "        x=f.read() # var string\n",
    "        print(x)\n",
    "    else:\n",
    "        print(\"Error message!!!\")\n",
    "readFileData('file1.txt')"
   ]
  },
  {
   "cell_type": "code",
   "execution_count": 20,
   "metadata": {},
   "outputs": [
    {
     "data": {
      "text/plain": [
       "9"
      ]
     },
     "execution_count": 20,
     "metadata": {},
     "output_type": "execute_result"
    }
   ],
   "source": [
    "# word count\n",
    "def wordCount(filename):\n",
    "    f=open(filename,'r')\n",
    "    if f.mode=='r':\n",
    "        x=f.read()\n",
    "        li=x.split()\n",
    "    return len(li)\n",
    "wordCount('file1.txt')"
   ]
  },
  {
   "cell_type": "code",
   "execution_count": 21,
   "metadata": {
    "scrolled": true
   },
   "outputs": [
    {
     "name": "stdout",
     "output_type": "stream",
     "text": [
      "['Welcome', 'to', 'the', 'world']\n",
      "4\n"
     ]
    }
   ],
   "source": [
    "li=[]\n",
    "s=\"Welcome to the world\"\n",
    "li=s.split()\n",
    "print(li)\n",
    "print(len(li))"
   ]
  },
  {
   "cell_type": "code",
   "execution_count": 24,
   "metadata": {},
   "outputs": [
    {
     "data": {
      "text/plain": [
       "3"
      ]
     },
     "execution_count": 24,
     "metadata": {},
     "output_type": "execute_result"
    }
   ],
   "source": [
    "# how many times a word repeated\n",
    "def specificWordCount(filename,word):\n",
    "    li=[]\n",
    "    f=open(filename,'r')\n",
    "    if f.mode=='r':\n",
    "        x=f.read()\n",
    "        li=x.split()\n",
    "    cnt=li.count(word)\n",
    "    return cnt\n",
    "specificWordCount('file1.txt','org')        "
   ]
  },
  {
   "cell_type": "code",
   "execution_count": 10,
   "metadata": {},
   "outputs": [
    {
     "name": "stdout",
     "output_type": "stream",
     "text": [
      "54\n"
     ]
    }
   ],
   "source": [
    "# find a character count in a given file\n",
    "def charCount(filename):\n",
    "    f=open(filename,'r')\n",
    "    if f.mode=='r':\n",
    "        x=f.read().replace(' ','')\n",
    "        print(len(x))\n",
    "charCount('file1.txt')   "
   ]
  },
  {
   "cell_type": "code",
   "execution_count": 11,
   "metadata": {},
   "outputs": [
    {
     "data": {
      "text/plain": [
       "59"
      ]
     },
     "execution_count": 11,
     "metadata": {},
     "output_type": "execute_result"
    }
   ],
   "source": [
    "# find a character count in a given file\n",
    "def specificWordCount(filename,word):\n",
    "    li=[]\n",
    "    f=open(filename,'r')\n",
    "    if f.mode=='r':\n",
    "        x=f.read()\n",
    "        li=list(x)\n",
    "    return len(li)\n",
    "specificWordCount('file1.txt','org')  \n"
   ]
  },
  {
   "cell_type": "code",
   "execution_count": 28,
   "metadata": {},
   "outputs": [
    {
     "name": "stdout",
     "output_type": "stream",
     "text": [
      "4\n"
     ]
    }
   ],
   "source": [
    "# find a line count in a given file\n",
    "def lineCount(filename):\n",
    "    f=open(filename,'r')\n",
    "    if f.mode=='r':\n",
    "        x=f.readlines()\n",
    "        print(len(x))\n",
    "    return\n",
    "lineCount('file1.txt')"
   ]
  },
  {
   "cell_type": "code",
   "execution_count": 1,
   "metadata": {},
   "outputs": [],
   "source": [
    "# find a Uppercase and Lowercase count in a given file"
   ]
  },
  {
   "cell_type": "code",
   "execution_count": null,
   "metadata": {},
   "outputs": [],
   "source": [
    "\n",
    "\n"
   ]
  }
 ],
 "metadata": {
  "kernelspec": {
   "display_name": "Python 3",
   "language": "python",
   "name": "python3"
  },
  "language_info": {
   "codemirror_mode": {
    "name": "ipython",
    "version": 3
   },
   "file_extension": ".py",
   "mimetype": "text/x-python",
   "name": "python",
   "nbconvert_exporter": "python",
   "pygments_lexer": "ipython3",
   "version": "3.7.1"
  }
 },
 "nbformat": 4,
 "nbformat_minor": 2
}
