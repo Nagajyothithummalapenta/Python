{
 "cells": [
  {
   "cell_type": "markdown",
   "metadata": {},
   "source": [
    "# 5/01/2020 \n",
    "### To check the person is eligible for vote or not"
   ]
  },
  {
   "cell_type": "code",
   "execution_count": 1,
   "metadata": {},
   "outputs": [
    {
     "name": "stdout",
     "output_type": "stream",
     "text": [
      "enter the age of person 50\n",
      "person is eligible to vote\n"
     ]
    }
   ],
   "source": [
    "age=int(input(\"enter the age of person \"))\n",
    "if(age>=18 and age<=85):\n",
    "  print(\"person is eligible to vote\")\n",
    "else:\n",
    "  print(\"person is not eligible to vote\")"
   ]
  },
  {
   "cell_type": "markdown",
   "metadata": {},
   "source": [
    "### To check the sum of two numbers ia 10 or either one of  the  number is 10"
   ]
  },
  {
   "cell_type": "code",
   "execution_count": 14,
   "metadata": {},
   "outputs": [
    {
     "name": "stdout",
     "output_type": "stream",
     "text": [
      "enter x value 8\n",
      "enter y value 2\n",
      "True\n"
     ]
    }
   ],
   "source": [
    "x=int(input(\"enter x value \"))\n",
    "y=int(input(\"enter y value \"))\n",
    "if(x==10 or y==10 or x+y==10):\n",
    "  print(\"True\")\n",
    "else:\n",
    "  print(\"false\")\n"
   ]
  },
  {
   "cell_type": "markdown",
   "metadata": {},
   "source": [
    "### To print the table with ranges"
   ]
  },
  {
   "cell_type": "code",
   "execution_count": 15,
   "metadata": {},
   "outputs": [
    {
     "name": "stdout",
     "output_type": "stream",
     "text": [
      "enter the number 4\n",
      "enter the lower limit 5\n",
      "enter the upper limit 8\n",
      "4 * 5 = 20\n",
      "4 * 6 = 24\n",
      "4 * 7 = 28\n",
      "4 * 8 = 32\n"
     ]
    }
   ],
   "source": [
    "n=int(input(\"enter the number \"))\n",
    "l=int(input(\"enter the lower limit \"))\n",
    "u=int(input(\"enter the upper limit \"))\n",
    "i=0\n",
    "while(l<=u):\n",
    "  i=n*l\n",
    "  print(n,\"*\",l,\"=\",i)\n",
    "  l=l+1"
   ]
  },
  {
   "cell_type": "markdown",
   "metadata": {},
   "source": [
    "### To print the multiplication table"
   ]
  },
  {
   "cell_type": "code",
   "execution_count": 12,
   "metadata": {},
   "outputs": [
    {
     "name": "stdout",
     "output_type": "stream",
     "text": [
      "enter the number 9\n",
      "9 * 1 = 9\n",
      "9 * 2 = 18\n",
      "9 * 3 = 27\n",
      "9 * 4 = 36\n",
      "9 * 5 = 45\n",
      "9 * 6 = 54\n",
      "9 * 7 = 63\n",
      "9 * 8 = 72\n",
      "9 * 9 = 81\n",
      "9 * 10 = 90\n"
     ]
    }
   ],
   "source": [
    "n=int(input(\"enter the number \"))\n",
    "i=1\n",
    "while(i<=10):\n",
    "  print(n,\"*\",i,\"=\",n*i)\n",
    "  i=i+1"
   ]
  },
  {
   "cell_type": "markdown",
   "metadata": {},
   "source": [
    "### To print the sum of natural numbers"
   ]
  },
  {
   "cell_type": "code",
   "execution_count": 13,
   "metadata": {},
   "outputs": [
    {
     "name": "stdout",
     "output_type": "stream",
     "text": [
      "enter the number 5\n",
      "sum of natural numbers is  15\n"
     ]
    }
   ],
   "source": [
    "n=int(input(\"enter the number \"))\n",
    "i=1\n",
    "sum=0\n",
    "while(i<=n):\n",
    "  sum=sum+i\n",
    "  i=i+1\n",
    "print(\"sum of natural numbers is \",sum)"
   ]
  },
  {
   "cell_type": "markdown",
   "metadata": {},
   "source": [
    "### To print the reverse of a number"
   ]
  },
  {
   "cell_type": "code",
   "execution_count": 16,
   "metadata": {},
   "outputs": [
    {
     "name": "stdout",
     "output_type": "stream",
     "text": [
      "enter the number 8965\n",
      "reverse of a number  5698\n"
     ]
    }
   ],
   "source": [
    "n=int(input(\"enter the number \"))\n",
    "rev=0\n",
    "while(n!=0):\n",
    "  rev=rev*10+(n%10)\n",
    "  n=n//10\n",
    "print(\"reverse of a number \",rev)"
   ]
  },
  {
   "cell_type": "markdown",
   "metadata": {},
   "source": [
    "### To print the number of prime or not"
   ]
  },
  {
   "cell_type": "code",
   "execution_count": 18,
   "metadata": {},
   "outputs": [
    {
     "name": "stdout",
     "output_type": "stream",
     "text": [
      "enter the number 9\n",
      "9 is not a prime number\n"
     ]
    }
   ],
   "source": [
    "# To check the number is prime or not\n",
    "n=int(input(\"enter the number \"))\n",
    "if n > 1:\n",
    "   for i in range(2,n):\n",
    "       if (n % i) == 0:\n",
    "           print(n,\"is not a prime number\")\n",
    "           break\n",
    "   else:\n",
    "       print(n,\"is a prime number\")\n",
    "else:\n",
    "   print(n,\"is not a prime number\")"
   ]
  },
  {
   "cell_type": "markdown",
   "metadata": {},
   "source": [
    "### To print the number of primes between certain range"
   ]
  },
  {
   "cell_type": "code",
   "execution_count": 1,
   "metadata": {},
   "outputs": [
    {
     "name": "stdout",
     "output_type": "stream",
     "text": [
      "enter lower limit 10\n",
      "enter upper limit50\n",
      "Prime numbers are:\n",
      "11\n",
      "13\n",
      "17\n",
      "19\n",
      "23\n",
      "29\n",
      "31\n",
      "37\n",
      "41\n",
      "43\n",
      "47\n"
     ]
    }
   ],
   "source": [
    "l = int(input(\"enter lower limit \"))\n",
    "u = int(input(\"enter upper limit\"))\n",
    "print(\"Prime numbers are:\")\n",
    "for num in range(l, u + 1):\n",
    "   if num > 1:\n",
    "       for i in range(2, num):\n",
    "           if (num % i) == 0:\n",
    "               break\n",
    "       else:\n",
    "           print(num)"
   ]
  },
  {
   "cell_type": "markdown",
   "metadata": {},
   "source": [
    "### To check the number is palindrome or not"
   ]
  },
  {
   "cell_type": "code",
   "execution_count": 19,
   "metadata": {},
   "outputs": [
    {
     "name": "stdout",
     "output_type": "stream",
     "text": [
      "enter the number 151\n",
      "palindrome\n"
     ]
    }
   ],
   "source": [
    "n=int(input(\"enter the number \"))\n",
    "rev=0\n",
    "temp=nn\n",
    "while(n!=0):\n",
    "  rev=rev*10+(n%10)\n",
    "  n=n//10\n",
    "if(temp==rev):\n",
    "  print(\"palindrome\")\n",
    "else:\n",
    "  print(\"not palindrome\")"
   ]
  },
  {
   "cell_type": "markdown",
   "metadata": {},
   "source": [
    "### To check the number is positive ,negative or zero"
   ]
  },
  {
   "cell_type": "code",
   "execution_count": 20,
   "metadata": {},
   "outputs": [
    {
     "name": "stdout",
     "output_type": "stream",
     "text": [
      "enter the number 5\n",
      "5  is positive number\n"
     ]
    }
   ],
   "source": [
    "n=int(input(\"enter the number \"))\n",
    "if(n>0):\n",
    "  print(n,\" is positive number\")\n",
    "elif(n<0):\n",
    "  print(n,\" is negative number\")\n",
    "else:\n",
    "  print(n,\" zero\")\n"
   ]
  },
  {
   "cell_type": "markdown",
   "metadata": {},
   "source": [
    "### Factorial of a number"
   ]
  },
  {
   "cell_type": "code",
   "execution_count": 21,
   "metadata": {},
   "outputs": [
    {
     "name": "stdout",
     "output_type": "stream",
     "text": [
      "enter the number 8\n",
      "factorial of ( 8 ) is 40320\n"
     ]
    }
   ],
   "source": [
    "n=int(input(\"enter the number \"))\n",
    "fact=1\n",
    "i=1\n",
    "while(i<=n):\n",
    "    fact=fact*i\n",
    "    i=i+1\n",
    "print(\"factorial of (\",n,\") is\",fact)\n",
    "    "
   ]
  },
  {
   "cell_type": "markdown",
   "metadata": {},
   "source": [
    "### Largest of two numbers"
   ]
  },
  {
   "cell_type": "code",
   "execution_count": 22,
   "metadata": {},
   "outputs": [
    {
     "name": "stdout",
     "output_type": "stream",
     "text": [
      "enter a value 50\n",
      "enter b value 90\n",
      "b is largest\n"
     ]
    }
   ],
   "source": [
    "a =int(input(\"enter a value \"))\n",
    "b=int(input(\"enter b value \"))\n",
    "if a>b:\n",
    "    print(\"a is largest\")\n",
    "else:\n",
    "    print(\"b is largest\")"
   ]
  },
  {
   "cell_type": "markdown",
   "metadata": {},
   "source": [
    "### Largest of three numbers"
   ]
  },
  {
   "cell_type": "code",
   "execution_count": 23,
   "metadata": {},
   "outputs": [
    {
     "name": "stdout",
     "output_type": "stream",
     "text": [
      "enter a value 50\n",
      "enter b value 70\n",
      "enter c value 10\n",
      "b is largest\n"
     ]
    }
   ],
   "source": [
    "a =int(input(\"enter a value \"))\n",
    "b=int(input(\"enter b value \"))\n",
    "c=int(input(\"enter c value \"))\n",
    "if a>b and a>c:\n",
    "    print(\"a is largest\")\n",
    "elif b>c:\n",
    "    print(\"b is largest\")\n",
    "else:\n",
    "    print(\"c is largest\")\n"
   ]
  },
  {
   "cell_type": "markdown",
   "metadata": {},
   "source": [
    "### Area of circle"
   ]
  },
  {
   "cell_type": "code",
   "execution_count": 24,
   "metadata": {},
   "outputs": [
    {
     "name": "stdout",
     "output_type": "stream",
     "text": [
      "enter the radius 5\n",
      "Area of circle is  78.5\n"
     ]
    }
   ],
   "source": [
    "r=int(input(\"enter the radius \"))\n",
    "area=3.14*r*r\n",
    "print(\"Area of circle is \",area)"
   ]
  },
  {
   "cell_type": "markdown",
   "metadata": {},
   "source": [
    "### Area of triangle"
   ]
  },
  {
   "cell_type": "code",
   "execution_count": 25,
   "metadata": {},
   "outputs": [
    {
     "name": "stdout",
     "output_type": "stream",
     "text": [
      "enter the base 5\n",
      "enter the height 9\n",
      "Area of triangle is  22.5\n"
     ]
    }
   ],
   "source": [
    "b=int(input(\"enter the base \"))\n",
    "h=int(input(\"enter the height \"))\n",
    "area=0.5*b*h\n",
    "print(\"Area of triangle is \",area)"
   ]
  },
  {
   "cell_type": "markdown",
   "metadata": {},
   "source": [
    "### squareroot of a number"
   ]
  },
  {
   "cell_type": "code",
   "execution_count": 26,
   "metadata": {},
   "outputs": [
    {
     "name": "stdout",
     "output_type": "stream",
     "text": [
      "enter the number 81\n",
      "square root is  9.0\n"
     ]
    }
   ],
   "source": [
    "import math\n",
    "n=int(input(\"enter the number \"))\n",
    "print(\"square root is \",math.sqrt(n))\n"
   ]
  },
  {
   "cell_type": "markdown",
   "metadata": {},
   "source": [
    "### Factors of a number"
   ]
  },
  {
   "cell_type": "code",
   "execution_count": 27,
   "metadata": {},
   "outputs": [
    {
     "name": "stdout",
     "output_type": "stream",
     "text": [
      "enter the number 9\n",
      "1\n",
      "3\n"
     ]
    }
   ],
   "source": [
    "n=int(input(\"enter the number \"))\n",
    "i=1\n",
    "while(i<n):\n",
    "    if(n%i==0):\n",
    "        print(i)\n",
    "    i=i+1"
   ]
  },
  {
   "cell_type": "markdown",
   "metadata": {},
   "source": [
    "### Even or Odd number"
   ]
  },
  {
   "cell_type": "code",
   "execution_count": 28,
   "metadata": {},
   "outputs": [
    {
     "name": "stdout",
     "output_type": "stream",
     "text": [
      "enter the number 56\n",
      "even\n"
     ]
    }
   ],
   "source": [
    "n=int(input(\"enter the number \"))\n",
    "if(n%2==0):\n",
    "    print(\"even\")\n",
    "else:\n",
    "    print(\"odd\")"
   ]
  },
  {
   "cell_type": "markdown",
   "metadata": {},
   "source": [
    "### Divisibility"
   ]
  },
  {
   "cell_type": "code",
   "execution_count": 29,
   "metadata": {},
   "outputs": [
    {
     "name": "stdout",
     "output_type": "stream",
     "text": [
      "enter the number 24\n",
      "number divisible by 2  & 3 & 4\n"
     ]
    }
   ],
   "source": [
    "n=int(input(\"enter the number \"))\n",
    "if(n%2==0 and n%3==0):\n",
    "    if(n%4!=0):\n",
    "        print(\"number divisible by 2 & 3 but not with 4\")\n",
    "    else:\n",
    "        print(\"number divisible by 2  & 3 & 4\")\n",
    "else:\n",
    "    print(\"number is divisible by 2 & 3 & 4\")"
   ]
  },
  {
   "cell_type": "markdown",
   "metadata": {},
   "source": [
    "### Print numbers using loop"
   ]
  },
  {
   "cell_type": "code",
   "execution_count": 30,
   "metadata": {},
   "outputs": [
    {
     "name": "stdout",
     "output_type": "stream",
     "text": [
      "enter the number 6\n",
      "1\n",
      "2\n",
      "3\n",
      "4\n",
      "5\n",
      "6\n"
     ]
    }
   ],
   "source": [
    "n=int(input(\"enter the number \"))\n",
    "i=1\n",
    "while(i<=n):\n",
    "    print(i)\n",
    "    i=i+1\n"
   ]
  },
  {
   "cell_type": "markdown",
   "metadata": {},
   "source": [
    "### Print even numbers using loop"
   ]
  },
  {
   "cell_type": "code",
   "execution_count": 31,
   "metadata": {},
   "outputs": [
    {
     "name": "stdout",
     "output_type": "stream",
     "text": [
      "enter the number 14\n",
      "2\n",
      "4\n",
      "6\n",
      "8\n",
      "10\n",
      "12\n",
      "14\n"
     ]
    }
   ],
   "source": [
    "n=int(input(\"enter the number \"))\n",
    "i=1\n",
    "while(i<=n):\n",
    "    if(i%2==0):\n",
    "      print(i)\n",
    "    i=i+1"
   ]
  },
  {
   "cell_type": "markdown",
   "metadata": {},
   "source": [
    "### To check the number is strong or not"
   ]
  },
  {
   "cell_type": "code",
   "execution_count": 32,
   "metadata": {},
   "outputs": [
    {
     "name": "stdout",
     "output_type": "stream",
     "text": [
      "Enter a number: 145\n",
      "The number is a strong number\n"
     ]
    }
   ],
   "source": [
    "sum1=0\n",
    "num=int(input(\"Enter a number: \"))\n",
    "temp=num\n",
    "while(num):\n",
    "    i=1\n",
    "    f=1\n",
    "    r=num%10\n",
    "    while(i<=r):\n",
    "        f=f*i\n",
    "        i=i+1\n",
    "    sum1=sum1+f\n",
    "    num=num//10\n",
    "if(sum1==temp):\n",
    "    print(\"The number is a strong number\")\n",
    "else:\n",
    "    print(\"The number is not a strong number\")"
   ]
  },
  {
   "cell_type": "markdown",
   "metadata": {},
   "source": [
    "### To check the number is perfect or not"
   ]
  },
  {
   "cell_type": "code",
   "execution_count": 28,
   "metadata": {},
   "outputs": [
    {
     "name": "stdout",
     "output_type": "stream",
     "text": [
      "Enter any number: 28\n",
      "The number is a Perfect number!\n"
     ]
    }
   ],
   "source": [
    "n = int(input(\"Enter any number: \"))\n",
    "sum1 = 0\n",
    "for i in range(1, n):\n",
    "    if(n % i == 0):\n",
    "        sum1 = sum1 + i\n",
    "if (sum1 == n):\n",
    "    print(\"The number is a Perfect number!\")\n",
    "else:\n",
    "    print(\"The number is not a Perfect number!\")"
   ]
  },
  {
   "cell_type": "markdown",
   "metadata": {},
   "source": [
    "### To check the number is armstrong or not"
   ]
  },
  {
   "cell_type": "code",
   "execution_count": 2,
   "metadata": {},
   "outputs": [
    {
     "name": "stdout",
     "output_type": "stream",
     "text": [
      "Enter a number: 135\n",
      "135 is not an Armstrong number\n"
     ]
    }
   ],
   "source": [
    "num = int(input(\"Enter a number: \"))\n",
    "sum = 0\n",
    "temp = num\n",
    "while temp > 0:\n",
    "   digit = temp % 10\n",
    "   sum += digit ** 3\n",
    "   temp //= 10\n",
    "if num == sum:\n",
    "   print(num,\"is an Armstrong number\")\n",
    "else:\n",
    "   print(num,\"is not an Armstrong number\")\n"
   ]
  },
  {
   "cell_type": "markdown",
   "metadata": {},
   "source": [
    "### To check the number of palindromes in certain range"
   ]
  },
  {
   "cell_type": "code",
   "execution_count": 30,
   "metadata": {},
   "outputs": [
    {
     "name": "stdout",
     "output_type": "stream",
     "text": [
      "Enter the Maximum Value : 100\n",
      "Palindrome Numbers are\n",
      "1   2   3   4   5   6   7   8   9   11   22   33   44   55   66   77   88   99   "
     ]
    }
   ],
   "source": [
    "max = int(input(\"Enter the Maximum Value : \"))\n",
    "print(\"Palindrome Numbers are\")\n",
    "for num in range(1, max+ 1):\n",
    "    temp = num\n",
    "    reverse = 0\n",
    "    while(temp > 0):\n",
    "        Reminder = temp % 10\n",
    "        reverse = (reverse * 10) + Reminder\n",
    "        temp = temp //10\n",
    "    if(num == reverse):\n",
    "        print(\"%d \" %num, end = '  ')"
   ]
  },
  {
   "cell_type": "markdown",
   "metadata": {},
   "source": [
    "### To print maximum element dynamically"
   ]
  },
  {
   "cell_type": "code",
   "execution_count": 2,
   "metadata": {},
   "outputs": [
    {
     "name": "stdout",
     "output_type": "stream",
     "text": [
      "enter the number of elements 4\n",
      "enter the number 50\n",
      "enter the number 70\n",
      "enter the number 90\n",
      "enter the number 80\n",
      "maximum element of list is  90\n"
     ]
    }
   ],
   "source": [
    "list=[]\n",
    "n=int(input(\"enter the number of elements \"))\n",
    "for i in range(0,n):\n",
    "    k=int(input(\"enter the number \"))\n",
    "    list.append(k)\n",
    "ma=list[0]\n",
    "for i in range(0,n):\n",
    "    if(ma<list[i]):\n",
    "        ma=list[i]\n",
    "print(\"maximum element of list is \",ma)"
   ]
  },
  {
   "cell_type": "markdown",
   "metadata": {},
   "source": [
    "### To print the frequency of given numbers"
   ]
  },
  {
   "cell_type": "code",
   "execution_count": 5,
   "metadata": {},
   "outputs": [
    {
     "name": "stdout",
     "output_type": "stream",
     "text": [
      "enter the number 2525\n",
      "4\n"
     ]
    }
   ],
   "source": [
    "n=int(input(\"enter the number \"))\n",
    "count=0\n",
    "while(n>0):\n",
    "    count=count+1\n",
    "    n=n//10\n",
    "print(count)"
   ]
  },
  {
   "cell_type": "markdown",
   "metadata": {},
   "source": [
    "# 6/01/2020\n",
    "### Write a Python program to create a list by concatenating a given list which range goes from 1 to n"
   ]
  },
  {
   "cell_type": "code",
   "execution_count": 10,
   "metadata": {},
   "outputs": [
    {
     "name": "stdout",
     "output_type": "stream",
     "text": [
      "5\n",
      "['p1', 'q1', 'p2', 'q2', 'p3', 'q3', 'p4', 'q4', 'p5', 'q5']\n"
     ]
    }
   ],
   "source": [
    "my=['p', 'q']\n",
    "n=int(input())\n",
    "new=['{}{}'.format(x, y) for y in range(1, n+1) for x in my]\n",
    "print(new)"
   ]
  },
  {
   "cell_type": "code",
   "execution_count": 3,
   "metadata": {},
   "outputs": [
    {
     "name": "stdout",
     "output_type": "stream",
     "text": [
      "5\n",
      "['p1', 'q1', 'p2', 'q2', 'p3', 'q3', 'p4', 'q4', 'p5', 'q5']\n"
     ]
    }
   ],
   "source": [
    "n=int(input())\n",
    "l=['p','q']\n",
    "l1=[]\n",
    "for i in range(1,n+1):\n",
    "    for j in range(0,len(l)):\n",
    "        l1.append(l[j]+str(i))\n",
    "print(l1)"
   ]
  },
  {
   "cell_type": "markdown",
   "metadata": {},
   "source": [
    "### Count of  Non Prime Factors"
   ]
  },
  {
   "cell_type": "code",
   "execution_count": 2,
   "metadata": {},
   "outputs": [
    {
     "name": "stdout",
     "output_type": "stream",
     "text": [
      "enter a number 100\n",
      "[2, 4, 5, 25]\n",
      "2\n"
     ]
    }
   ],
   "source": [
    "def prime1(n):\n",
    "    count=0\n",
    "    for i in range(1,n):\n",
    "        if(n%i==0):\n",
    "            count=count+1\n",
    "    if(count==1):\n",
    "        return 1\n",
    "    else:\n",
    "        return 0\n",
    "def factors(n):\n",
    "    count=0\n",
    "    li=[]\n",
    "    for i in range(2,n+1):\n",
    "        if(n%i==0 and i%10):\n",
    "            li.append(i)\n",
    "    print(li)\n",
    "    for i in li:\n",
    "        x=prime1(i)\n",
    "        if(x==0):\n",
    "            count=count+1\n",
    "    print(count)\n",
    "n=int(input(\"enter a number \"))\n",
    "factors(n)"
   ]
  },
  {
   "cell_type": "markdown",
   "metadata": {},
   "source": [
    "### Frequency of numbers in list"
   ]
  },
  {
   "cell_type": "code",
   "execution_count": 5,
   "metadata": {},
   "outputs": [
    {
     "name": "stdout",
     "output_type": "stream",
     "text": [
      "Enter number of elements:5\n",
      "Enter element:1\n",
      "Enter element:2\n",
      "Enter element:3\n",
      "Enter element:3\n",
      "Enter element:1\n",
      "1 ->  2\n",
      "2 ->  1\n",
      "3 ->  2\n"
     ]
    }
   ],
   "source": [
    "list=[]\n",
    "n=int(input(\"Enter number of elements:\"))\n",
    "for i in range(0,n):\n",
    "    ele=int(input(\"Enter element:\"))\n",
    "    list.append(ele)\n",
    "frequency = {}\n",
    "for item in list:\n",
    "   if (item in frequency):\n",
    "      frequency[item] += 1\n",
    "   else:\n",
    "      frequency[item] = 1\n",
    "for key, value in frequency.items():\n",
    "   print(\"% s -> % d\" % (key, value))"
   ]
  },
  {
   "cell_type": "markdown",
   "metadata": {},
   "source": [
    "# 8/01/2020"
   ]
  },
  {
   "cell_type": "markdown",
   "metadata": {},
   "source": [
    "### To check no of armstrong number between ranges"
   ]
  },
  {
   "cell_type": "code",
   "execution_count": 2,
   "metadata": {},
   "outputs": [
    {
     "name": "stdout",
     "output_type": "stream",
     "text": [
      "Enter lower limit1\n",
      "Enter upper limit 1000\n",
      "1\n",
      "153\n",
      "370\n",
      "371\n",
      "407\n"
     ]
    }
   ],
   "source": [
    "lower = int(input(\"Enter lower limit\"))\n",
    "upper = int(input(\"Enter upper limit \")) \n",
    "for num in range(lower,upper + 1):\n",
    "   sum = 0\n",
    "   temp = num\n",
    "   while temp > 0:\n",
    "       digit = temp % 10\n",
    "       sum += digit ** 3\n",
    "       temp //= 10\n",
    "   if num == sum:\n",
    "       print(num)"
   ]
  },
  {
   "cell_type": "markdown",
   "metadata": {},
   "source": [
    "# 11/01/2020"
   ]
  },
  {
   "cell_type": "markdown",
   "metadata": {},
   "source": [
    "#### Write a Python program to concatenate following dictionaries to create a new one. \n",
    "- Sample Dictionary :\n",
    "  dic1={1:10, 2:20}\n",
    "  dic2={3:30, 4:40}\n",
    "  dic3={5:50,6:60}\n",
    "  Expected Result : {1: 10, 2: 20, 3: 30, 4: 40, 5: 50, 6: 60}"
   ]
  },
  {
   "cell_type": "code",
   "execution_count": 4,
   "metadata": {},
   "outputs": [
    {
     "name": "stdout",
     "output_type": "stream",
     "text": [
      "{1: 10, 2: 20, 3: 30, 4: 40, 5: 50, 6: 60}\n"
     ]
    }
   ],
   "source": [
    "dic1={1:10, 2:20}\n",
    "dic2={3:30, 4:40}\n",
    "dic3={5:50,6:60}\n",
    "dic4 = {}\n",
    "for d in (dic1, dic2, dic3): \n",
    "    dic4.update(d)\n",
    "print(dic4)"
   ]
  },
  {
   "cell_type": "markdown",
   "metadata": {},
   "source": [
    "### Write a Python program to check if a given key already exists in a dictionary.\n",
    " - d = {1: 10, 2: 20, 3: 30, 4: 40, 5: 50, 6: 60}"
   ]
  },
  {
   "cell_type": "code",
   "execution_count": 10,
   "metadata": {},
   "outputs": [
    {
     "name": "stdout",
     "output_type": "stream",
     "text": [
      "Key already exist\n"
     ]
    }
   ],
   "source": [
    "d = {1: 10, 2: 20, 3: 30, 4: 40, 5: 50, 6: 60}\n",
    "def key(x):\n",
    "    if x in d:\n",
    "        print(\"Key already exist\")\n",
    "    else:\n",
    "        print(\"key is not present\")\n",
    "key(5)"
   ]
  },
  {
   "cell_type": "markdown",
   "metadata": {},
   "source": [
    "Input: a = [\"abc\", \"def\", \"ghi\"]\n",
    "\n",
    "Output: [['a', 'b', 'c'], ['d', 'e', 'f'], ['g', 'h', 'i']]"
   ]
  },
  {
   "cell_type": "code",
   "execution_count": 15,
   "metadata": {},
   "outputs": [
    {
     "name": "stdout",
     "output_type": "stream",
     "text": [
      "[['a', 'b', 'c'], ['d', 'e', 'f'], ['g', 'h', 'i']]\n"
     ]
    }
   ],
   "source": [
    "a=[\"abc\",\"def\",\"ghi\"]\n",
    "lis=[]\n",
    "for i in a:\n",
    "    k=i.split()\n",
    "    for j in k:\n",
    "        u=list(j)\n",
    "    lis.append(u)\n",
    "print(lis)"
   ]
  },
  {
   "cell_type": "code",
   "execution_count": 45,
   "metadata": {},
   "outputs": [
    {
     "name": "stdout",
     "output_type": "stream",
     "text": [
      "(1, 2, 3)\n",
      "(4, 5, 6)\n",
      "(7, 8, 9)\n"
     ]
    }
   ],
   "source": [
    "l=[1,2,3,4,5,6,7,8,9]\n",
    "x=0\n",
    "y=9\n",
    "for i in range(x,y,3):\n",
    "    x=i\n",
    "    k=l[x:x+3]\n",
    "    y=tuple(k)\n",
    "    print(y)"
   ]
  },
  {
   "cell_type": "markdown",
   "metadata": {},
   "source": [
    "- The program must accept an integer N as the input. Need to print the output in the following    manner.\n",
    "     Example Input/Output 1:145  \n",
    "     Output:\n",
    "       Five Four One\n",
    "     Example Input/Output 2:123  \n",
    "      Output:\n",
    "       Three two one"
   ]
  },
  {
   "cell_type": "code",
   "execution_count": 34,
   "metadata": {},
   "outputs": [
    {
     "name": "stdout",
     "output_type": "stream",
     "text": [
      "143\n",
      "341\n",
      "Three\n",
      "Four\n",
      "one\n"
     ]
    }
   ],
   "source": [
    "n=int(input())\n",
    "reverse = 0.\n",
    "rev = 0  \n",
    "while(n > 0): \n",
    "    a = n % 10\n",
    "    rev = rev * 10 + a \n",
    "    n = n // 10       \n",
    "n1=str(rev)\n",
    "print(n1)\n",
    "for i in range(0,len(n1)):\n",
    "    if(n1[i]==\"1\"):\n",
    "        print(\"one\")\n",
    "    elif(n1[i]==\"2\"):\n",
    "        print(\"two\")\n",
    "    elif(n1[i]==\"3\"):\n",
    "        print(\"Three\")\n",
    "    elif(n1[i]==\"4\"):\n",
    "        print(\"Four\")\n",
    "    elif(n1[i]==\"5\"):\n",
    "        print(\"Five\")\n",
    "    elif(n1[i]==\"6\"):\n",
    "        print(\"Six\")\n",
    "    elif(n1[i]==\"7\"):\n",
    "        print(\"Seven\")\n",
    "    elif(n1[i]==\"8\"):\n",
    "        print(\"Eight\")\n",
    "    elif(n1[i]==\"9\"):\n",
    "        print(\"Nine\")\n",
    "    elif(n1[i]==\"0\"):\n",
    "        print(\"Zero\")"
   ]
  },
  {
   "cell_type": "markdown",
   "metadata": {},
   "source": [
    "- Write a Python program to find the highest 3 values in a dictionary"
   ]
  },
  {
   "cell_type": "code",
   "execution_count": 51,
   "metadata": {},
   "outputs": [
    {
     "name": "stdout",
     "output_type": "stream",
     "text": [
      "[40, 50, 60]\n"
     ]
    }
   ],
   "source": [
    "d={1:10,2:20,3:30,4:40,5:50,6:60}\n",
    "y=d.values()\n",
    "k=sorted(y)\n",
    "print(k[3:6])"
   ]
  },
  {
   "cell_type": "markdown",
   "metadata": {},
   "source": [
    "- The program must accept an integer N as the input. Need to print the output in the following manner.\n",
    "  Boundary Condition(s):\n",
    "    Example:\n",
    "      Input1: 1889\n",
    "      Output:16\n",
    "      Input2: 19872\n",
    "      Output:10\n"
   ]
  },
  {
   "cell_type": "code",
   "execution_count": 54,
   "metadata": {},
   "outputs": [
    {
     "name": "stdout",
     "output_type": "stream",
     "text": [
      "16\n"
     ]
    }
   ],
   "source": [
    "n=1889\n",
    "l= [int(x) for x in str(n)] \n",
    "s=0\n",
    "for i in l:\n",
    "    if(i%2==0):\n",
    "        s=s+i\n",
    "print(s)"
   ]
  },
  {
   "cell_type": "markdown",
   "metadata": {},
   "source": [
    "- The program must accept an integer N as the input. Need to print the output in the following manner.\n",
    "  Example Input/Output 1:\n",
    "    Input1:145\n",
    "    Output:yes\n",
    "    Input2:123\n",
    "    Output:no\n",
    "- Explanation : \n",
    "   Individual digit factorial sum is the same as the original number then need to print   YES otherwise  need to print NO\n",
    " #145 - 1! + 4! + 5! - 1 + 24 + 120 -- 145 -- YES\n",
    " #123 - 1! + 2! + 3! - 1 + 2 + 6 - 9 -- NO"
   ]
  },
  {
   "cell_type": "code",
   "execution_count": 55,
   "metadata": {},
   "outputs": [
    {
     "name": "stdout",
     "output_type": "stream",
     "text": [
      "Enter a number:145\n",
      "YES\n"
     ]
    }
   ],
   "source": [
    "sum1=0\n",
    "num=int(input(\"Enter a number:\"))\n",
    "temp=num\n",
    "while(num):\n",
    "    i=1\n",
    "    f=1\n",
    "    r=num%10\n",
    "    while(i<=r):\n",
    "        f=f*i\n",
    "        i=i+1\n",
    "    sum1=sum1+f\n",
    "    num=num//10\n",
    "if(sum1==temp):\n",
    "    print(\"YES\")\n",
    "else:\n",
    "    print(\"NO\")"
   ]
  }
 ],
 "metadata": {
  "kernelspec": {
   "display_name": "Python 3",
   "language": "python",
   "name": "python3"
  },
  "language_info": {
   "codemirror_mode": {
    "name": "ipython",
    "version": 3
   },
   "file_extension": ".py",
   "mimetype": "text/x-python",
   "name": "python",
   "nbconvert_exporter": "python",
   "pygments_lexer": "ipython3",
   "version": "3.7.1"
  }
 },
 "nbformat": 4,
 "nbformat_minor": 2
}
